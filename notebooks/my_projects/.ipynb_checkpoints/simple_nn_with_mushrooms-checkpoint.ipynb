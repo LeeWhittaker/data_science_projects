{
 "cells": [
  {
   "cell_type": "markdown",
   "metadata": {},
   "source": [
    "# Revisiting the mushroom dataset using simple_neural_net\n",
    "\n",
    "Here, we look at modeling the mushroom dataset using a neural network that has been coded from scratch using simple python vectorization with Numpy.\n",
    "\n",
    "The data pre-processing follows exactly what was done in the mushroom_classification notebook, and details can be found there.\n",
    "\n",
    "This notebook is a simple test to see if we can achieve good results using simple_neural_net."
   ]
  },
  {
   "cell_type": "markdown",
   "metadata": {},
   "source": [
    "### Load libraries"
   ]
  },
  {
   "cell_type": "code",
   "execution_count": 3,
   "metadata": {},
   "outputs": [],
   "source": [
    "import pandas as pd\n",
    "import numpy as np\n",
    "from data_science_projects import simple_neural_net as snn\n",
    "from sklearn.model_selection import train_test_split"
   ]
  },
  {
   "cell_type": "markdown",
   "metadata": {},
   "source": [
    "### Load data and pre-process"
   ]
  },
  {
   "cell_type": "code",
   "execution_count": 4,
   "metadata": {},
   "outputs": [],
   "source": [
    "df = pd.read_csv('../../data/mushrooms.csv')\n",
    "\n",
    "df_ring = df['ring-number']\n",
    "df_ring.replace({'n':0, 'o':1, 't':2}, inplace=True)\n",
    "\n",
    "df = df.drop(columns=['ring-number'])\n",
    "df_onehot = pd.get_dummies(df, drop_first=True)\n",
    "# I am creating new dataframes, since the data is not too big and it makes it easier to run with small changes later\n",
    "\n",
    "df_onehot['ring-number'] = df_ring\n",
    "\n",
    "cut_correlation = 0.3\n",
    "# A cut of 0.3 was found to give the best scores for both cross-validation\n",
    "# on the training set and the test set score for the decision tree.\n",
    "\n",
    "corr = df_onehot.corr('pearson')\n",
    "cut_df_onehot = df_onehot[corr['class_p'][corr['class_p'].abs()>cut_correlation].index]"
   ]
  },
  {
   "cell_type": "code",
   "execution_count": 5,
   "metadata": {},
   "outputs": [],
   "source": [
    "X_train, X_test, y_train, y_test = train_test_split(cut_df_onehot.drop('class_p', 1), cut_df_onehot['class_p'], test_size = 0.1, random_state=10)"
   ]
  },
  {
   "cell_type": "markdown",
   "metadata": {},
   "source": [
    "### Simple neural network model"
   ]
  },
  {
   "cell_type": "code",
   "execution_count": 6,
   "metadata": {},
   "outputs": [
    {
     "name": "stdout",
     "output_type": "stream",
     "text": [
      "Cost after iteration 0: 9.240752e-01\n",
      "Cost after iteration 1000: 5.324717e-04\n",
      "Cost after iteration 2000: 1.145344e-04\n",
      "Cost has not changed for 10 iterations\n",
      "Time for run = 0 mins : 12 secs\n"
     ]
    }
   ],
   "source": [
    "layer_dims = [X_train.T.shape[0], X_train.T.shape[0], 1]\n",
    "\n",
    "init_scale = 2.0 / np.sqrt(layer_dims)\n",
    "\n",
    "parameters = snn.L_layer_model(np.array(X_train.T),\n",
    "                               np.array(y_train).reshape([1,len(y_train)]),\n",
    "                               layer_dims,\n",
    "                               seed=1,\n",
    "                               init_scale=init_scale,\n",
    "                               learning_rate=0.01,\n",
    "                               rel_tol=0.001,\n",
    "                               hidden_active=\"relu\",\n",
    "                               outer_active=\"sigmoid\",\n",
    "                               cost_func=\"entropy\",\n",
    "                               print_cost = 1000,\n",
    "                               max_iter=10000,\n",
    "                               batch_size=0)"
   ]
  },
  {
   "cell_type": "code",
   "execution_count": 7,
   "metadata": {},
   "outputs": [],
   "source": [
    "y_pred, caches = snn.L_model_forward(np.array(X_test.T), parameters, hidden_active='relu', outer_active='sigmoid')\n",
    "y_pred = np.where(y_pred<0.5, 0, 1)"
   ]
  },
  {
   "cell_type": "code",
   "execution_count": 9,
   "metadata": {},
   "outputs": [
    {
     "name": "stdout",
     "output_type": "stream",
     "text": [
      "accuracy of neural network =  1.0\n"
     ]
    }
   ],
   "source": [
    "accuracy = len(np.where(y_pred[0]==np.array(y_test))[0])/len(y_test)\n",
    "print('accuracy of neural network = ', accuracy)"
   ]
  },
  {
   "cell_type": "markdown",
   "metadata": {},
   "source": [
    "We see that we have again acieved 100% prediction, this time using a very shallow neural network with only one hidden layer."
   ]
  },
  {
   "cell_type": "code",
   "execution_count": null,
   "metadata": {},
   "outputs": [],
   "source": []
  }
 ],
 "metadata": {
  "kernelspec": {
   "display_name": "Python 3",
   "language": "python",
   "name": "python3"
  },
  "language_info": {
   "codemirror_mode": {
    "name": "ipython",
    "version": 3
   },
   "file_extension": ".py",
   "mimetype": "text/x-python",
   "name": "python",
   "nbconvert_exporter": "python",
   "pygments_lexer": "ipython3",
   "version": "3.7.3"
  }
 },
 "nbformat": 4,
 "nbformat_minor": 2
}
